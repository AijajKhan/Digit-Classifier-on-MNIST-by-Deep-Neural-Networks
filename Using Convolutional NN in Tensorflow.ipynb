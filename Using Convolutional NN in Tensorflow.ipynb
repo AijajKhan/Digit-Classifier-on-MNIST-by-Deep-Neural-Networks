{
  "nbformat": 4,
  "nbformat_minor": 0,
  "metadata": {
    "colab": {
      "name": "Untitled3.ipynb",
      "version": "0.3.2",
      "provenance": [],
      "include_colab_link": true
    },
    "kernelspec": {
      "name": "python3",
      "display_name": "Python 3"
    }
  },
  "cells": [
    {
      "cell_type": "markdown",
      "metadata": {
        "id": "view-in-github",
        "colab_type": "text"
      },
      "source": [
        "<a href=\"https://colab.research.google.com/github/AijajKhan/Digit-Classifier-on-MNIST-by-Deep-Neural-Networks/blob/master/Using%20Convolutional%20NN%20in%20Tensorflow.ipynb\" target=\"_parent\"><img src=\"https://colab.research.google.com/assets/colab-badge.svg\" alt=\"Open In Colab\"/></a>"
      ]
    },
    {
      "metadata": {
        "id": "3ByE--OU4S22",
        "colab_type": "code",
        "colab": {
          "base_uri": "https://localhost:8080/",
          "height": 768
        },
        "outputId": "d62fa5f2-2e63-457e-e10c-05623061fa73"
      },
      "cell_type": "code",
      "source": [
        "import tensorflow as tf\n",
        "import numpy as np\n",
        "import matplotlib.pyplot as plt\n",
        "\n",
        "class mak_callback(tf.keras.callbacks.Callback):\n",
        "  def end_of_epoch(self,epoch,logs={}):\n",
        "    if logs.get(\"acc\")>0.998:\n",
        "      print(\"\\n Reached 99.8 accuracy so cancelling training!\")\n",
        "      self.model.stop_training=True\n",
        "\n",
        "makintosh=mak_callback()      \n",
        "      \n",
        "mnist=tf.keras.datasets.mnist\n",
        "(x_train,y_train),(x_test,y_test)=mnist.load_data()\n",
        "\n",
        "x_train=x_train.reshape(60000,28,28,1)\n",
        "x_test=x_test.reshape(10000,28,28,1)\n",
        "\n",
        "x_train,x_test=x_train/255.0,x_test/255.0\n",
        "\n",
        "model=tf.keras.models.Sequential([tf.keras.layers.Conv2D(64, (3,3) , activation=tf.nn.relu) ,\n",
        "                                 tf.keras.layers.MaxPooling2D(2,2),\n",
        "                                 tf.keras.layers.Flatten(),\n",
        "                                 tf.keras.layers.Dense(128,activation=tf.nn.relu),\n",
        "                                 tf.keras.layers.Dense(10,activation=tf.nn.softmax)\n",
        "                                 ])\n",
        "\n",
        "model.compile(loss=\"sparse_categorical_crossentropy\",optimizer=tf.train.AdamOptimizer(),metrics=[\"accuracy\"])\n",
        "\n",
        "\n",
        "model.fit(x_train,y_train,epochs=10,callbacks=[makintosh],validation_split=0.01)\n",
        "\n",
        "model.summary()\n",
        "\n",
        "model.evaluate(x_test,y_test)\n",
        "\n"
      ],
      "execution_count": 1,
      "outputs": [
        {
          "output_type": "stream",
          "text": [
            "WARNING:tensorflow:From /usr/local/lib/python3.6/dist-packages/tensorflow/python/ops/resource_variable_ops.py:435: colocate_with (from tensorflow.python.framework.ops) is deprecated and will be removed in a future version.\n",
            "Instructions for updating:\n",
            "Colocations handled automatically by placer.\n",
            "Train on 59400 samples, validate on 600 samples\n",
            "Epoch 1/10\n",
            "59400/59400 [==============================] - 77s 1ms/sample - loss: 0.1348 - acc: 0.9593 - val_loss: 0.1290 - val_acc: 0.9817\n",
            "Epoch 2/10\n",
            "59400/59400 [==============================] - 76s 1ms/sample - loss: 0.0452 - acc: 0.9859 - val_loss: 0.1021 - val_acc: 0.9867\n",
            "Epoch 3/10\n",
            "59400/59400 [==============================] - 76s 1ms/sample - loss: 0.0278 - acc: 0.9912 - val_loss: 0.1072 - val_acc: 0.9867\n",
            "Epoch 4/10\n",
            "59400/59400 [==============================] - 77s 1ms/sample - loss: 0.0177 - acc: 0.9944 - val_loss: 0.1111 - val_acc: 0.9867\n",
            "Epoch 5/10\n",
            "59400/59400 [==============================] - 77s 1ms/sample - loss: 0.0122 - acc: 0.9957 - val_loss: 0.1335 - val_acc: 0.9800\n",
            "Epoch 6/10\n",
            "59400/59400 [==============================] - 77s 1ms/sample - loss: 0.0080 - acc: 0.9971 - val_loss: 0.1303 - val_acc: 0.9817\n",
            "Epoch 7/10\n",
            "59400/59400 [==============================] - 78s 1ms/sample - loss: 0.0070 - acc: 0.9976 - val_loss: 0.1370 - val_acc: 0.9833\n",
            "Epoch 8/10\n",
            "59400/59400 [==============================] - 77s 1ms/sample - loss: 0.0048 - acc: 0.9986 - val_loss: 0.1433 - val_acc: 0.9850\n",
            "Epoch 9/10\n",
            "59400/59400 [==============================] - 78s 1ms/sample - loss: 0.0048 - acc: 0.9984 - val_loss: 0.1623 - val_acc: 0.9867\n",
            "Epoch 10/10\n",
            "59400/59400 [==============================] - 77s 1ms/sample - loss: 0.0039 - acc: 0.9987 - val_loss: 0.1363 - val_acc: 0.9817\n",
            "_________________________________________________________________\n",
            "Layer (type)                 Output Shape              Param #   \n",
            "=================================================================\n",
            "conv2d (Conv2D)              multiple                  640       \n",
            "_________________________________________________________________\n",
            "max_pooling2d (MaxPooling2D) multiple                  0         \n",
            "_________________________________________________________________\n",
            "flatten (Flatten)            multiple                  0         \n",
            "_________________________________________________________________\n",
            "dense (Dense)                multiple                  1384576   \n",
            "_________________________________________________________________\n",
            "dense_1 (Dense)              multiple                  1290      \n",
            "=================================================================\n",
            "Total params: 1,386,506\n",
            "Trainable params: 1,386,506\n",
            "Non-trainable params: 0\n",
            "_________________________________________________________________\n",
            "10000/10000 [==============================] - 3s 303us/sample - loss: 0.0657 - acc: 0.9854\n"
          ],
          "name": "stdout"
        },
        {
          "output_type": "execute_result",
          "data": {
            "text/plain": [
              "[0.06568636209567302, 0.9854]"
            ]
          },
          "metadata": {
            "tags": []
          },
          "execution_count": 1
        }
      ]
    }
  ]
}